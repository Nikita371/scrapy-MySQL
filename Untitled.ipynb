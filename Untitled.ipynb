{
 "cells": [
  {
   "cell_type": "code",
   "execution_count": 10,
   "metadata": {},
   "outputs": [],
   "source": [
    "from hhparser.items import HhparserItem \n",
    "import sys\n",
    "import MySQLdb\n",
    "import hashlib\n",
    "from scrapy.exceptions import DropItem\n",
    "from scrapy.http import Request\n",
    "\n",
    "class HhparserPipeline(object):\n",
    "    def process_item(self, item, spider):\n",
    "        return item\n",
    "\n",
    "    \n",
    "    def __init__(self):\n",
    "        self.conn = MySQLdb.connect('127.0.0.1:3306', 'root', '133737Aa_!', \n",
    "                                    'sys', charset=\"utf8\",\n",
    "                                    use_unicode=True)\n",
    "        self.cursor = self.conn.cursor()\n",
    "\n",
    "    def process_item(self, item, spider):    \n",
    "        self.cursor.execute(\"\"\"INSERT INTO hhvacancy (vacancy, employer,salary)  \n",
    "                        VALUES (%s, %s, %s)\"\"\", \n",
    "                       ('first', \n",
    "                        'second',\n",
    "                        'third'))            \n",
    "        self.conn.commit()            \n",
    "        return item"
   ]
  }
 ],
 "metadata": {
  "kernelspec": {
   "display_name": "Python 3",
   "language": "python",
   "name": "python3"
  },
  "language_info": {
   "codemirror_mode": {
    "name": "ipython",
    "version": 3
   },
   "file_extension": ".py",
   "mimetype": "text/x-python",
   "name": "python",
   "nbconvert_exporter": "python",
   "pygments_lexer": "ipython3",
   "version": "3.6.5"
  }
 },
 "nbformat": 4,
 "nbformat_minor": 2
}
