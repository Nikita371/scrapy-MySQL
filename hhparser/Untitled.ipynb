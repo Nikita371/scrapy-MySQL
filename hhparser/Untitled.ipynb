{
 "cells": [
  {
   "cell_type": "code",
   "execution_count": 17,
   "metadata": {},
   "outputs": [],
   "source": [
    "import MySQLdb\n",
    "import settings\n",
    "\n",
    "\n",
    "class HhparserPipeline(object):\n",
    "        \n",
    "    def __init__(self):\n",
    "        self.conn =  MySQLdb.connect(\n",
    "            host = settings.MYSQL_HOST,\n",
    "            \n",
    "            db = settings.MYSQL_DBNAME,\n",
    "            user = settings.MYSQL_USER,\n",
    "            passwd = settings.MYSQL_PASSWD,\n",
    "            charset = 'utf8',\n",
    "            use_unicode = True\n",
    "        )\n",
    "        self.cursor = self.connect.cursor()\n",
    "\n",
    "    def process_item(self, item, spider):    \n",
    "            self.cursor.execute(\"\"\"insert into hhvacancy (Salary, Employer, Vacancy) value(%s, %s, %s)\"\"\", \n",
    "                        (item['Salary'],\n",
    "                 item['Employer'],\n",
    "                 item['Vacancy'],\n",
    "                 ))          \n",
    "            self.conn.commit()            \n",
    "   "
   ]
  }
 ],
 "metadata": {
  "kernelspec": {
   "display_name": "Python 3",
   "language": "python",
   "name": "python3"
  },
  "language_info": {
   "codemirror_mode": {
    "name": "ipython",
    "version": 3
   },
   "file_extension": ".py",
   "mimetype": "text/x-python",
   "name": "python",
   "nbconvert_exporter": "python",
   "pygments_lexer": "ipython3",
   "version": "3.6.5"
  }
 },
 "nbformat": 4,
 "nbformat_minor": 2
}
